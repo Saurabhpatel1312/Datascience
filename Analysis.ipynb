{
    "cells": [
        {
            "cell_type": "code",
            "execution_count": 2,
            "metadata": {},
            "outputs": [
                {
                    "data": {
                        "text/html": "<div>\n<style scoped>\n    .dataframe tbody tr th:only-of-type {\n        vertical-align: middle;\n    }\n\n    .dataframe tbody tr th {\n        vertical-align: top;\n    }\n\n    .dataframe thead th {\n        text-align: right;\n    }\n</style>\n<table border=\"1\" class=\"dataframe\">\n  <thead>\n    <tr style=\"text-align: right;\">\n      <th></th>\n      <th>LocationIdentifier</th>\n      <th>Parameter</th>\n      <th>Unit</th>\n    </tr>\n  </thead>\n  <tbody>\n    <tr>\n      <th>0</th>\n      <td>HY121</td>\n      <td>Precip Total</td>\n      <td>mm</td>\n    </tr>\n    <tr>\n      <th>1</th>\n      <td>ApprovalLevel</td>\n      <td>StartTime</td>\n      <td>EndTime</td>\n    </tr>\n    <tr>\n      <th>2</th>\n      <td>Unverified</td>\n      <td>0001-01-01T00:00:00.0000000+00:00</td>\n      <td>2020-01-23T14:30:00.0000000-05:00</td>\n    </tr>\n    <tr>\n      <th>3</th>\n      <td>Working</td>\n      <td>2020-01-23T14:30:00.0000000-05:00</td>\n      <td>2021-02-10T12:00:00.0000000-05:00</td>\n    </tr>\n    <tr>\n      <th>4</th>\n      <td>Unverified</td>\n      <td>2021-02-10T12:00:00.0000000-05:00</td>\n      <td>9999-12-31T23:59:59.9999999+00:00</td>\n    </tr>\n  </tbody>\n</table>\n</div>",
                        "text/plain": "  LocationIdentifier                          Parameter  \\\n0              HY121                       Precip Total   \n1      ApprovalLevel                          StartTime   \n2         Unverified  0001-01-01T00:00:00.0000000+00:00   \n3            Working  2020-01-23T14:30:00.0000000-05:00   \n4         Unverified  2021-02-10T12:00:00.0000000-05:00   \n\n                                Unit  \n0                                 mm  \n1                            EndTime  \n2  2020-01-23T14:30:00.0000000-05:00  \n3  2021-02-10T12:00:00.0000000-05:00  \n4  9999-12-31T23:59:59.9999999+00:00  "
                    },
                    "execution_count": 2,
                    "metadata": {},
                    "output_type": "execute_result"
                }
            ],
            "source": "# The code was removed by Watson Studio for sharing."
        },
        {
            "cell_type": "code",
            "execution_count": null,
            "metadata": {},
            "outputs": [],
            "source": ""
        }
    ],
    "metadata": {
        "kernelspec": {
            "display_name": "Python 3.7 with Spark",
            "language": "python3",
            "name": "python37"
        },
        "language_info": {
            "codemirror_mode": {
                "name": "ipython",
                "version": 3
            },
            "file_extension": ".py",
            "mimetype": "text/x-python",
            "name": "python",
            "nbconvert_exporter": "python",
            "pygments_lexer": "ipython3",
            "version": "3.7.10"
        }
    },
    "nbformat": 4,
    "nbformat_minor": 1
}